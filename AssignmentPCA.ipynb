{
 "cells": [
  {
   "cell_type": "markdown",
   "metadata": {},
   "source": [
    "**Assignment for week 1 by SONAM RANI**"
   ]
  },
  {
   "cell_type": "code",
   "execution_count": 1,
   "metadata": {},
   "outputs": [],
   "source": [
    "import pandas as pd\n",
    "import numpy as np\n",
    "import matplotlib.pyplot as plt\n",
    "from sklearn.decomposition import PCA\n",
    "from sklearn.preprocessing import StandardScaler"
   ]
  },
  {
   "cell_type": "markdown",
   "metadata": {},
   "source": [
    "**Load and Preprocess Data**"
   ]
  },
  {
   "cell_type": "code",
   "execution_count": 2,
   "metadata": {},
   "outputs": [
    {
     "data": {
      "text/plain": [
       "(8041, 35)"
      ]
     },
     "execution_count": 2,
     "metadata": {},
     "output_type": "execute_result"
    }
   ],
   "source": [
    "df=pd.read_csv('PCA_practice_dataset.csv')\n",
    "df.head()\n",
    "X=df.to_numpy()\n",
    "X.shape"
   ]
  },
  {
   "cell_type": "code",
   "execution_count": 3,
   "metadata": {},
   "outputs": [],
   "source": [
    "scaler = StandardScaler()\n",
    "X=scaler.fit_transform(X)"
   ]
  },
  {
   "cell_type": "markdown",
   "metadata": {},
   "source": [
    "**Applying PCA**"
   ]
  },
  {
   "cell_type": "code",
   "execution_count": 4,
   "metadata": {},
   "outputs": [
    {
     "name": "stdout",
     "output_type": "stream",
     "text": [
      "Components required for90%threshold are:2\n",
      "Components required for91%threshold are:2\n",
      "Components required for92%threshold are:3\n",
      "Components required for93%threshold are:3\n",
      "Components required for94%threshold are:4\n",
      "Components required for95%threshold are:4\n",
      "Components required for96%threshold are:5\n",
      "Components required for97%threshold are:6\n"
     ]
    }
   ],
   "source": [
    "pca = PCA()\n",
    "X = pca.fit_transform(X)\n",
    "\n",
    "cumalitive_varience = np.cumsum(pca.explained_variance_ratio_)*100\n",
    "\n",
    "threholds = [i for i in range(90,97+1,1)]\n",
    "\n",
    "components = [np.argmax(cumalitive_varience>threhold)for threhold in threholds]\n",
    "for component , threshold in zip(components, threholds):\n",
    "    print(\"Components required for{}%threshold are:{}\".format(threshold,component))"
   ]
  },
  {
   "cell_type": "code",
   "execution_count": 5,
   "metadata": {},
   "outputs": [
    {
     "data": {
      "image/png": "[encoded data removed]",
      "text/plain": [
       "<Figure size 432x288 with 1 Axes>"
      ]
     },
     "metadata": {
      "needs_background": "light"
     },
     "output_type": "display_data"
    }
   ],
   "source": [
    "plt.plot(components, range(90,97+1,1),'ro-', linewidth=2)\n",
    "plt.title('Scree Plot')\n",
    "plt.xlabel('Principal Component')\n",
    "plt.ylabel('Threshold in 5')\n",
    "plt.show()\n"
   ]
  },
  {
   "cell_type": "code",
   "execution_count": 6,
   "metadata": {},
   "outputs": [
    {
     "name": "stdout",
     "output_type": "stream",
     "text": [
      "Performing dimensionality reduction to retain 90%threshold\n",
      "After dimensionality reduction, new shape of the dataset is : (8041, 2)\n",
      "\n",
      "\n",
      "Performing dimensionality reduction to retain 91%threshold\n",
      "After dimensionality reduction, new shape of the dataset is : (8041, 2)\n",
      "\n",
      "\n",
      "Performing dimensionality reduction to retain 92%threshold\n",
      "After dimensionality reduction, new shape of the dataset is : (8041, 3)\n",
      "\n",
      "\n",
      "Performing dimensionality reduction to retain 93%threshold\n",
      "After dimensionality reduction, new shape of the dataset is : (8041, 3)\n",
      "\n",
      "\n",
      "Performing dimensionality reduction to retain 94%threshold\n",
      "After dimensionality reduction, new shape of the dataset is : (8041, 4)\n",
      "\n",
      "\n",
      "Performing dimensionality reduction to retain 95%threshold\n",
      "After dimensionality reduction, new shape of the dataset is : (8041, 4)\n",
      "\n",
      "\n",
      "Performing dimensionality reduction to retain 96%threshold\n",
      "After dimensionality reduction, new shape of the dataset is : (8041, 5)\n",
      "\n",
      "\n",
      "Performing dimensionality reduction to retain 97%threshold\n",
      "After dimensionality reduction, new shape of the dataset is : (8041, 6)\n",
      "\n",
      "\n"
     ]
    }
   ],
   "source": [
    "X_orig = X\n",
    "for component, var in zip(components,threholds):\n",
    "    pca = PCA(n_components = component)\n",
    "    X_transformed = pca.fit_transform(X_orig)\n",
    "    print('Performing dimensionality reduction to retain {}%threshold'.format(var))\n",
    "    print('After dimensionality reduction, new shape of the dataset is :',X_transformed.shape)\n",
    "    print('\\n')"
   ]
  },
  {
   "cell_type": "code",
   "execution_count": null,
   "metadata": {},
   "outputs": [],
   "source": []
  }
 ],
 "metadata": {
  "kernelspec": {
   "display_name": "Python 3",
   "language": "python",
   "name": "python3"
  },
  "language_info": {
   "codemirror_mode": {
    "name": "ipython",
    "version": 3
   },
   "file_extension": ".py",
   "mimetype": "text/x-python",
   "name": "python",
   "nbconvert_exporter": "python",
   "pygments_lexer": "ipython3",
   "version": "3.8.3"
  }
 },
 "nbformat": 4,
 "nbformat_minor": 4
}
